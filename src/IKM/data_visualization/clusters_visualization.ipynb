{
 "cells": [
  {
   "cell_type": "code",
   "execution_count": 4,
   "metadata": {
    "collapsed": true,
    "pycharm": {
     "name": "#%%\n"
    }
   },
   "outputs": [],
   "source": [
    "import pandas as pd\n",
    "df = pd.read_csv('../datasets/depression_patients_clusters_4.csv')"
   ]
  },
  {
   "cell_type": "code",
   "execution_count": 5,
   "outputs": [],
   "source": [
    "# define and map colors\n",
    "colors = ['#DF2020', '#81DF20', '#2095DF', '#d1c81b']\n",
    "df['c'] = df['cluster'].map({1:colors[0], 2:colors[1], 3:colors[2], 4:colors[3]})"
   ],
   "metadata": {
    "collapsed": false,
    "pycharm": {
     "name": "#%%\n"
    }
   }
  },
  {
   "cell_type": "code",
   "execution_count": 7,
   "outputs": [
    {
     "data": {
      "text/plain": "     id  response                                           compData  \\\n0  P001       1.0  [[ 3464700.34628459  1034648.41079653   333809...   \n1  P002       0.0  [[ 1.01091609e+07  9.59468630e+06  6.63581497e...   \n2  P003       1.0  [[ 12104261.53894387  10620390.16670601   9886...   \n3  P004       0.0  [[ 8.17529905e+06  6.62563396e+06  5.45551802e...   \n4  P005       0.0  [[ 1.21677207e+07  1.01108295e+07  6.26992635e...   \n\n                                              quadrs   age  sex  srate  \\\n0  [[3464700.34628459]\\r\\n [5527662.66523417]\\r\\n...  49.0  0.0  250.0   \n1  [[10109160.90385076]\\r\\n [11315364.83980386]\\r...  36.0  0.0  250.0   \n2  [[12104261.53894387]\\r\\n [10988046.51853365]\\r...  48.0  0.0  250.0   \n3  [[ 8175299.04557925]\\r\\n [ 8489354.06625208]\\r...  55.0  0.0  250.0   \n4  [[12167720.67821388]\\r\\n [10611171.29680864]\\r...  35.0  0.0  250.0   \n\n   treatment_1 treatment_2 treatment_3     treatment_4  visit  \\\n0  milnacipram         NaN         NaN             NaN      2   \n1    bupropion         NaN         NaN             NaN      2   \n2    sertralin    trazodon         NaN             NaN      2   \n3         rTMS  clonazepam         NaN             NaN      2   \n4         rTMS  mirtazapin  cilalopram  chlorprothixen      2   \n\n          madrs_cuttof  cluster        c  \n0      mild depression      2.0  #81DF20  \n1  moderate depression      2.0  #81DF20  \n2      mild depression      2.0  #81DF20  \n3  moderate depression      2.0  #81DF20  \n4    severe depression      2.0  #81DF20  ",
      "text/html": "<div>\n<style scoped>\n    .dataframe tbody tr th:only-of-type {\n        vertical-align: middle;\n    }\n\n    .dataframe tbody tr th {\n        vertical-align: top;\n    }\n\n    .dataframe thead th {\n        text-align: right;\n    }\n</style>\n<table border=\"1\" class=\"dataframe\">\n  <thead>\n    <tr style=\"text-align: right;\">\n      <th></th>\n      <th>id</th>\n      <th>response</th>\n      <th>compData</th>\n      <th>quadrs</th>\n      <th>age</th>\n      <th>sex</th>\n      <th>srate</th>\n      <th>treatment_1</th>\n      <th>treatment_2</th>\n      <th>treatment_3</th>\n      <th>treatment_4</th>\n      <th>visit</th>\n      <th>madrs_cuttof</th>\n      <th>cluster</th>\n      <th>c</th>\n    </tr>\n  </thead>\n  <tbody>\n    <tr>\n      <th>0</th>\n      <td>P001</td>\n      <td>1.0</td>\n      <td>[[ 3464700.34628459  1034648.41079653   333809...</td>\n      <td>[[3464700.34628459]\\r\\n [5527662.66523417]\\r\\n...</td>\n      <td>49.0</td>\n      <td>0.0</td>\n      <td>250.0</td>\n      <td>milnacipram</td>\n      <td>NaN</td>\n      <td>NaN</td>\n      <td>NaN</td>\n      <td>2</td>\n      <td>mild depression</td>\n      <td>2.0</td>\n      <td>#81DF20</td>\n    </tr>\n    <tr>\n      <th>1</th>\n      <td>P002</td>\n      <td>0.0</td>\n      <td>[[ 1.01091609e+07  9.59468630e+06  6.63581497e...</td>\n      <td>[[10109160.90385076]\\r\\n [11315364.83980386]\\r...</td>\n      <td>36.0</td>\n      <td>0.0</td>\n      <td>250.0</td>\n      <td>bupropion</td>\n      <td>NaN</td>\n      <td>NaN</td>\n      <td>NaN</td>\n      <td>2</td>\n      <td>moderate depression</td>\n      <td>2.0</td>\n      <td>#81DF20</td>\n    </tr>\n    <tr>\n      <th>2</th>\n      <td>P003</td>\n      <td>1.0</td>\n      <td>[[ 12104261.53894387  10620390.16670601   9886...</td>\n      <td>[[12104261.53894387]\\r\\n [10988046.51853365]\\r...</td>\n      <td>48.0</td>\n      <td>0.0</td>\n      <td>250.0</td>\n      <td>sertralin</td>\n      <td>trazodon</td>\n      <td>NaN</td>\n      <td>NaN</td>\n      <td>2</td>\n      <td>mild depression</td>\n      <td>2.0</td>\n      <td>#81DF20</td>\n    </tr>\n    <tr>\n      <th>3</th>\n      <td>P004</td>\n      <td>0.0</td>\n      <td>[[ 8.17529905e+06  6.62563396e+06  5.45551802e...</td>\n      <td>[[ 8175299.04557925]\\r\\n [ 8489354.06625208]\\r...</td>\n      <td>55.0</td>\n      <td>0.0</td>\n      <td>250.0</td>\n      <td>rTMS</td>\n      <td>clonazepam</td>\n      <td>NaN</td>\n      <td>NaN</td>\n      <td>2</td>\n      <td>moderate depression</td>\n      <td>2.0</td>\n      <td>#81DF20</td>\n    </tr>\n    <tr>\n      <th>4</th>\n      <td>P005</td>\n      <td>0.0</td>\n      <td>[[ 1.21677207e+07  1.01108295e+07  6.26992635e...</td>\n      <td>[[12167720.67821388]\\r\\n [10611171.29680864]\\r...</td>\n      <td>35.0</td>\n      <td>0.0</td>\n      <td>250.0</td>\n      <td>rTMS</td>\n      <td>mirtazapin</td>\n      <td>cilalopram</td>\n      <td>chlorprothixen</td>\n      <td>2</td>\n      <td>severe depression</td>\n      <td>2.0</td>\n      <td>#81DF20</td>\n    </tr>\n  </tbody>\n</table>\n</div>"
     },
     "execution_count": 7,
     "metadata": {},
     "output_type": "execute_result"
    }
   ],
   "source": [
    "df.head()"
   ],
   "metadata": {
    "collapsed": false,
    "pycharm": {
     "name": "#%%\n"
    }
   }
  },
  {
   "cell_type": "code",
   "execution_count": 8,
   "outputs": [
    {
     "data": {
      "text/plain": "Text(0, 0.5, 'Age')"
     },
     "execution_count": 8,
     "metadata": {},
     "output_type": "execute_result"
    },
    {
     "data": {
      "text/plain": "<Figure size 432x288 with 1 Axes>",
      "image/png": "[encoded data removed]"
     },
     "metadata": {
      "needs_background": "light"
     },
     "output_type": "display_data"
    }
   ],
   "source": [
    "from matplotlib.lines import Line2D\n",
    "import matplotlib.pyplot as plt\n",
    "\n",
    "\n",
    "\n",
    "plt.scatter(df['madrs_cuttof'], df['age'], c = df['c'], alpha=0.6, s = 10)\n",
    "\n",
    "\n",
    "legend_elements = [Line2D([0], [0], marker='o', color='w', label='Cluster {}'.format(i+1),\n",
    "               markerfacecolor=mcolor, markersize=5) for i, mcolor in enumerate(colors)]\n",
    "\n",
    "plt.legend(handles=legend_elements, loc='lower right')\n",
    "\n",
    "plt.xlabel('MADRS Cutoffs')\n",
    "plt.ylabel('Age')"
   ],
   "metadata": {
    "collapsed": false,
    "pycharm": {
     "name": "#%%\n"
    }
   }
  },
  {
   "cell_type": "code",
   "execution_count": 11,
   "outputs": [],
   "source": [
    "df_2_cl = pd.read_csv('../datasets/depression_patients_clusters.csv')\n"
   ],
   "metadata": {
    "collapsed": false,
    "pycharm": {
     "name": "#%%\n"
    }
   }
  },
  {
   "cell_type": "code",
   "execution_count": 14,
   "outputs": [],
   "source": [
    "colors = ['#DF2020', '#81DF20']\n",
    "df_2_cl['c'] = df_2_cl['cluster'].map({1:colors[0], 2:colors[1]})"
   ],
   "metadata": {
    "collapsed": false,
    "pycharm": {
     "name": "#%%\n"
    }
   }
  },
  {
   "cell_type": "code",
   "execution_count": 16,
   "outputs": [
    {
     "data": {
      "text/plain": "<matplotlib.legend.Legend at 0x21e87afbcd0>"
     },
     "execution_count": 16,
     "metadata": {},
     "output_type": "execute_result"
    },
    {
     "data": {
      "text/plain": "<Figure size 432x288 with 1 Axes>",
      "image/png": "[encoded data removed]"
     },
     "metadata": {
      "needs_background": "light"
     },
     "output_type": "display_data"
    }
   ],
   "source": [
    "plt.scatter(df_2_cl['response'], df_2_cl['age'], c = df_2_cl['c'],s = 10)\n",
    "\n",
    "\n",
    "legend_elements = [Line2D([0], [0], marker='o', color='w', label='Cluster {}'.format(i+1),\n",
    "               markerfacecolor=mcolor, markersize=5) for i, mcolor in enumerate(colors)]\n",
    "\n",
    "plt.legend(handles=legend_elements, loc='lower right')\n"
   ],
   "metadata": {
    "collapsed": false,
    "pycharm": {
     "name": "#%%\n"
    }
   }
  }
 ],
 "metadata": {
  "kernelspec": {
   "display_name": "Python 3",
   "language": "python",
   "name": "python3"
  },
  "language_info": {
   "codemirror_mode": {
    "name": "ipython",
    "version": 2
   },
   "file_extension": ".py",
   "mimetype": "text/x-python",
   "name": "python",
   "nbconvert_exporter": "python",
   "pygments_lexer": "ipython2",
   "version": "2.7.6"
  }
 },
 "nbformat": 4,
 "nbformat_minor": 0
}