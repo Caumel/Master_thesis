{
 "cells": [
  {
   "cell_type": "code",
   "execution_count": 2,
   "metadata": {},
   "outputs": [],
   "source": [
    "%load_ext autoreload\n",
    "%autoreload 2\n",
    "\n",
    "import sys\n",
    "import os\n",
    "sys.path.append('../../')\n",
    "os.chdir('../../')\n",
    "\n",
    "import polars as pl\n",
    "import pandas as pd\n",
    "import os\n",
    "from datetime import datetime, timedelta\n",
    "import matplotlib.pyplot as plt\n",
    "from matplotlib.patches import Rectangle\n",
    "import matplotlib.patches as mpatches\n",
    "plt.style.use('ggplot')\n",
    "\n",
    "import numpy as np\n",
    "from src.utils import utils\n",
    "\n",
    "\n",
    "url_data = \"./data\""
   ]
  },
  {
   "cell_type": "code",
   "execution_count": 15,
   "metadata": {},
   "outputs": [],
   "source": [
    "df = pl.read_csv(os.path.join(f\"./data/final_files/normal_summer/high.csv\"))\n",
    "\n",
    "categories = np.array(['_'.join(str(item) for item in sublist) for sublist in df[:,1:4].rows()])\n",
    "updated_list = [test+\"_15\" for test in categories]"
   ]
  },
  {
   "cell_type": "code",
   "execution_count": 3,
   "metadata": {},
   "outputs": [],
   "source": [
    "%reload_ext autoreload"
   ]
  },
  {
   "cell_type": "code",
   "execution_count": null,
   "metadata": {},
   "outputs": [],
   "source": [
    "speed_high = 15\n",
    "speed_low = 2\n",
    "speed_moderate_down = 6\n",
    "speed_moderate_up = 8\n",
    "utils.set_speed(speed_high,speed_low,speed_moderate_down,speed_moderate_up)\n",
    "\n",
    "print(utils.speed_high)\n",
    "print(utils.speed_low)\n",
    "print(utils.speed_moderate_up)\n",
    "print(utils.speed_moderate_down)\n",
    "\n",
    "utils.get_speeds()"
   ]
  },
  {
   "cell_type": "code",
   "execution_count": null,
   "metadata": {},
   "outputs": [],
   "source": []
  },
  {
   "cell_type": "code",
   "execution_count": 8,
   "metadata": {},
   "outputs": [
    {
     "data": {
      "text/plain": [
       "[2.0, 4.0, 6.0, 8.0, 5]"
      ]
     },
     "execution_count": 8,
     "metadata": {},
     "output_type": "execute_result"
    }
   ],
   "source": [
    "errors_in_models = [1,2,3,4,5]\n",
    "b = [1,2,3,4,[]]\n",
    "\n",
    "errors_in_models = [x if isinstance(y,list) else x + (1 * (y/1)) for x, y in zip(errors_in_models, b)]\n",
    "errors_in_models"
   ]
  },
  {
   "cell_type": "code",
   "execution_count": 3,
   "metadata": {},
   "outputs": [
    {
     "ename": "ModuleNotFoundError",
     "evalue": "No module named 'sklearn'",
     "output_type": "error",
     "traceback": [
      "\u001b[0;31m---------------------------------------------------------------------------\u001b[0m",
      "\u001b[0;31mModuleNotFoundError\u001b[0m                       Traceback (most recent call last)",
      "\u001b[1;32m/home/caumel/Master/Thesis/Master_thesis/src/notebooks/draft.ipynb Celda 7\u001b[0m line \u001b[0;36m1\n\u001b[0;32m----> <a href='vscode-notebook-cell://wsl%2Bubuntu/home/caumel/Master/Thesis/Master_thesis/src/notebooks/draft.ipynb#W6sdnNjb2RlLXJlbW90ZQ%3D%3D?line=0'>1</a>\u001b[0m \u001b[39mfrom\u001b[39;00m \u001b[39msklearn\u001b[39;00m\u001b[39m.\u001b[39;00m\u001b[39mmodel_selection\u001b[39;00m \u001b[39mimport\u001b[39;00m KFold\n\u001b[1;32m      <a href='vscode-notebook-cell://wsl%2Bubuntu/home/caumel/Master/Thesis/Master_thesis/src/notebooks/draft.ipynb#W6sdnNjb2RlLXJlbW90ZQ%3D%3D?line=2'>3</a>\u001b[0m \u001b[39m# Sample list\u001b[39;00m\n\u001b[1;32m      <a href='vscode-notebook-cell://wsl%2Bubuntu/home/caumel/Master/Thesis/Master_thesis/src/notebooks/draft.ipynb#W6sdnNjb2RlLXJlbW90ZQ%3D%3D?line=3'>4</a>\u001b[0m data \u001b[39m=\u001b[39m [\u001b[39m0\u001b[39m, \u001b[39m1\u001b[39m, \u001b[39m2\u001b[39m, \u001b[39m3\u001b[39m, \u001b[39m4\u001b[39m, \u001b[39m5\u001b[39m, \u001b[39m6\u001b[39m, \u001b[39m7\u001b[39m, \u001b[39m8\u001b[39m, \u001b[39m9\u001b[39m]\n",
      "\u001b[0;31mModuleNotFoundError\u001b[0m: No module named 'sklearn'"
     ]
    }
   ],
   "source": [
    "from sklearn.model_selection import KFold\n",
    "\n",
    "# Sample list\n",
    "data = [0, 1, 2, 3, 4, 5, 6, 7, 8, 9]\n",
    "\n",
    "# Number of splits\n",
    "n_splits = 5\n",
    "kf = KFold(n_splits=n_splits)\n",
    "\n",
    "for train_index, test_index in kf.split(data):\n",
    "    print(\"TRAIN:\", train_index, \"TEST:\", test_index)\n",
    "    train_data = [data[i] for i in train_index]\n",
    "    test_data = [data[i] for i in test_index]\n",
    "    print(\"Train Data:\", train_data)\n",
    "    print(\"Test Data:\", test_data)\n",
    "    print(\"-----\")"
   ]
  },
  {
   "cell_type": "code",
   "execution_count": 4,
   "metadata": {},
   "outputs": [
    {
     "name": "stdout",
     "output_type": "stream",
     "text": [
      "/bin/bash: /home/caumel/anaconda3/lib/libtinfo.so.6: no version information available (required by /bin/bash)\n",
      "Defaulting to user installation because normal site-packages is not writeable\n",
      "Collecting scikit-learn\n",
      "  Downloading scikit_learn-1.3.1-cp310-cp310-manylinux_2_17_x86_64.manylinux2014_x86_64.whl (10.8 MB)\n",
      "\u001b[2K     \u001b[90m━━━━━━━━━━━━━━━━━━━━━━━━━━━━━━━━━━━━━━━━\u001b[0m \u001b[32m10.8/10.8 MB\u001b[0m \u001b[31m25.3 MB/s\u001b[0m eta \u001b[36m0:00:00\u001b[0m00:01\u001b[0m00:01\u001b[0m\n",
      "\u001b[?25hCollecting joblib>=1.1.1\n",
      "  Downloading joblib-1.3.2-py3-none-any.whl (302 kB)\n",
      "\u001b[2K     \u001b[90m━━━━━━━━━━━━━━━━━━━━━━━━━━━━━━━━━━━━━━\u001b[0m \u001b[32m302.2/302.2 KB\u001b[0m \u001b[31m15.0 MB/s\u001b[0m eta \u001b[36m0:00:00\u001b[0m\n",
      "\u001b[?25hCollecting numpy<2.0,>=1.17.3\n",
      "  Downloading numpy-1.26.1-cp310-cp310-manylinux_2_17_x86_64.manylinux2014_x86_64.whl (18.2 MB)\n",
      "\u001b[2K     \u001b[90m━━━━━━━━━━━━━━━━━━━━━━━━━━━━━━━━━━━━━━━━\u001b[0m \u001b[32m18.2/18.2 MB\u001b[0m \u001b[31m24.2 MB/s\u001b[0m eta \u001b[36m0:00:00\u001b[0m00:01\u001b[0m00:01\u001b[0m\n",
      "\u001b[?25hCollecting scipy>=1.5.0\n",
      "  Downloading scipy-1.11.3-cp310-cp310-manylinux_2_17_x86_64.manylinux2014_x86_64.whl (36.4 MB)\n",
      "\u001b[2K     \u001b[90m━━━━━━━━━━━━━━━━━━━━━━━━━━━━━━━━━━━━━━━━\u001b[0m \u001b[32m36.4/36.4 MB\u001b[0m \u001b[31m19.6 MB/s\u001b[0m eta \u001b[36m0:00:00\u001b[0m00:01\u001b[0m00:01\u001b[0m\n",
      "\u001b[?25hCollecting threadpoolctl>=2.0.0\n",
      "  Downloading threadpoolctl-3.2.0-py3-none-any.whl (15 kB)\n",
      "Installing collected packages: threadpoolctl, numpy, joblib, scipy, scikit-learn\n",
      "Successfully installed joblib-1.3.2 numpy-1.26.1 scikit-learn-1.3.1 scipy-1.11.3 threadpoolctl-3.2.0\n",
      "Note: you may need to restart the kernel to use updated packages.\n"
     ]
    }
   ],
   "source": [
    "pip install scikit-learn\n"
   ]
  },
  {
   "cell_type": "code",
   "execution_count": 5,
   "metadata": {},
   "outputs": [
    {
     "name": "stdout",
     "output_type": "stream",
     "text": [
      "TRAIN: [2 3 4 5 6 7 8 9] TEST: [0 1]\n",
      "Train Data: [2, 3, 4, 5, 6, 7, 8, 9]\n",
      "Test Data: [0, 1]\n",
      "-----\n",
      "TRAIN: [0 1 4 5 6 7 8 9] TEST: [2 3]\n",
      "Train Data: [0, 1, 4, 5, 6, 7, 8, 9]\n",
      "Test Data: [2, 3]\n",
      "-----\n",
      "TRAIN: [0 1 2 3 6 7 8 9] TEST: [4 5]\n",
      "Train Data: [0, 1, 2, 3, 6, 7, 8, 9]\n",
      "Test Data: [4, 5]\n",
      "-----\n",
      "TRAIN: [0 1 2 3 4 5 8 9] TEST: [6 7]\n",
      "Train Data: [0, 1, 2, 3, 4, 5, 8, 9]\n",
      "Test Data: [6, 7]\n",
      "-----\n",
      "TRAIN: [0 1 2 3 4 5 6 7] TEST: [8 9]\n",
      "Train Data: [0, 1, 2, 3, 4, 5, 6, 7]\n",
      "Test Data: [8, 9]\n",
      "-----\n"
     ]
    }
   ],
   "source": [
    "from sklearn.model_selection import KFold\n",
    "\n",
    "# Sample list\n",
    "data = [0, 1, 2, 3, 4, 5, 6, 7, 8, 9]\n",
    "\n",
    "# Number of splits\n",
    "n_splits = 5\n",
    "kf = KFold(n_splits=n_splits)\n",
    "\n",
    "for train_index, test_index in kf.split(data):\n",
    "    print(\"TRAIN:\", train_index, \"TEST:\", test_index)\n",
    "    train_data = [data[i] for i in train_index]\n",
    "    test_data = [data[i] for i in test_index]\n",
    "    print(\"Train Data:\", train_data)\n",
    "    print(\"Test Data:\", test_data)\n",
    "    print(\"-----\")\n"
   ]
  },
  {
   "cell_type": "code",
   "execution_count": 18,
   "metadata": {},
   "outputs": [
    {
     "data": {
      "text/plain": [
       "[1, 0, 2]"
      ]
     },
     "execution_count": 18,
     "metadata": {},
     "output_type": "execute_result"
    }
   ],
   "source": [
    "def find_unique_max_indices(lst):\n",
    "    # Create a list to store the result\n",
    "    result = []\n",
    "    \n",
    "    # Create a list to keep track of the indices that have been used\n",
    "    used_indices = [False, False, False]\n",
    "    \n",
    "    # Step 1: Assign indices to the largest element in each sublist\n",
    "    for sublist in lst:\n",
    "        # Find the index of the largest element\n",
    "        max_idx = sublist.index(max(sublist))\n",
    "        result.append(max_idx)\n",
    "        # Mark this index as used\n",
    "        used_indices[max_idx] = True\n",
    "    \n",
    "    if result[0] == result[1]:\n",
    "        result = update_list(result,lst,0,1)\n",
    "    elif result[0] == result[2]:\n",
    "        result = update_list(result,lst,0,2)\n",
    "    elif result[1] == result[2]:\n",
    "        result = update_list(result,lst,1,2)\n",
    "    return result\n",
    "    \n",
    "def update_list(result,lst,first,second):\n",
    "\n",
    "    sublist_1 = lst[first]\n",
    "    sublist_2 = lst[second]\n",
    "\n",
    "    max_sublist_1 = max(sublist_1)\n",
    "    max_sublist_2 = max(sublist_2)\n",
    "\n",
    "    number_not_put = list(set(list(range(3))) - set(result))[0]\n",
    "\n",
    "    if (sum(sublist_2) - max_sublist_2) > max_sublist_1:\n",
    "        result[second] = number_not_put\n",
    "    elif (sum(sublist_1) - max_sublist_1) > max_sublist_2:\n",
    "        result[first] = number_not_put\n",
    "    elif max_sublist_1 > max_sublist_2:\n",
    "        result[second] = number_not_put\n",
    "    elif max_sublist_2 > max_sublist_1:\n",
    "        result[first] = number_not_put\n",
    "\n",
    "    return result\n",
    "\n",
    "lista = [[0, 8836, 2822], [4107, 3612, 0], [4749, 3090, 3579]]\n",
    "\n",
    "find_unique_max_indices(lista)"
   ]
  },
  {
   "cell_type": "code",
   "execution_count": null,
   "metadata": {},
   "outputs": [],
   "source": []
  }
 ],
 "metadata": {
  "kernelspec": {
   "display_name": "base",
   "language": "python",
   "name": "python3"
  },
  "language_info": {
   "codemirror_mode": {
    "name": "ipython",
    "version": 3
   },
   "file_extension": ".py",
   "mimetype": "text/x-python",
   "name": "python",
   "nbconvert_exporter": "python",
   "pygments_lexer": "ipython3",
   "version": "3.10.6"
  },
  "orig_nbformat": 4
 },
 "nbformat": 4,
 "nbformat_minor": 2
}
