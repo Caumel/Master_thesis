{
 "cells": [
  {
   "cell_type": "code",
   "execution_count": 2,
   "metadata": {},
   "outputs": [],
   "source": [
    "%load_ext autoreload\n",
    "%autoreload 2\n",
    "\n",
    "import sys\n",
    "import os\n",
    "sys.path.append('../../')\n",
    "os.chdir('../../')\n",
    "\n",
    "import polars as pl\n",
    "import pandas as pd\n",
    "import os\n",
    "from datetime import datetime, timedelta\n",
    "import matplotlib.pyplot as plt\n",
    "from matplotlib.patches import Rectangle\n",
    "import matplotlib.patches as mpatches\n",
    "plt.style.use('ggplot')\n",
    "\n",
    "import numpy as np\n",
    "from src.utils import utils\n",
    "\n",
    "\n",
    "url_data = \"./data\""
   ]
  },
  {
   "cell_type": "code",
   "execution_count": 15,
   "metadata": {},
   "outputs": [],
   "source": [
    "df = pl.read_csv(os.path.join(f\"./data/final_files/normal_summer/high.csv\"))\n",
    "\n",
    "categories = np.array(['_'.join(str(item) for item in sublist) for sublist in df[:,1:4].rows()])\n",
    "updated_list = [test+\"_15\" for test in categories]"
   ]
  },
  {
   "cell_type": "code",
   "execution_count": 3,
   "metadata": {},
   "outputs": [],
   "source": [
    "%reload_ext autoreload"
   ]
  },
  {
   "cell_type": "code",
   "execution_count": null,
   "metadata": {},
   "outputs": [],
   "source": [
    "speed_high = 15\n",
    "speed_low = 2\n",
    "speed_moderate_down = 6\n",
    "speed_moderate_up = 8\n",
    "utils.set_speed(speed_high,speed_low,speed_moderate_down,speed_moderate_up)\n",
    "\n",
    "print(utils.speed_high)\n",
    "print(utils.speed_low)\n",
    "print(utils.speed_moderate_up)\n",
    "print(utils.speed_moderate_down)\n",
    "\n",
    "utils.get_speeds()"
   ]
  },
  {
   "cell_type": "code",
   "execution_count": null,
   "metadata": {},
   "outputs": [],
   "source": []
  },
  {
   "cell_type": "code",
   "execution_count": null,
   "metadata": {},
   "outputs": [],
   "source": []
  }
 ],
 "metadata": {
  "kernelspec": {
   "display_name": "base",
   "language": "python",
   "name": "python3"
  },
  "language_info": {
   "codemirror_mode": {
    "name": "ipython",
    "version": 3
   },
   "file_extension": ".py",
   "mimetype": "text/x-python",
   "name": "python",
   "nbconvert_exporter": "python",
   "pygments_lexer": "ipython3",
   "version": "3.9.13"
  },
  "orig_nbformat": 4
 },
 "nbformat": 4,
 "nbformat_minor": 2
}
