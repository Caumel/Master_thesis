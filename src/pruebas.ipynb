{
 "cells": [
  {
   "cell_type": "code",
   "execution_count": 2,
   "metadata": {},
   "outputs": [],
   "source": [
    "import pandas as pd\n",
    "import polars as pl\n",
    "import numpy as np"
   ]
  },
  {
   "cell_type": "code",
   "execution_count": 3,
   "metadata": {},
   "outputs": [],
   "source": [
    "path = \"../data/dataset_split_events/2000_96_15_high.csv\""
   ]
  },
  {
   "cell_type": "code",
   "execution_count": 22,
   "metadata": {},
   "outputs": [
    {
     "data": {
      "text/html": [
       "<div>\n",
       "<style scoped>\n",
       "    .dataframe tbody tr th:only-of-type {\n",
       "        vertical-align: middle;\n",
       "    }\n",
       "\n",
       "    .dataframe tbody tr th {\n",
       "        vertical-align: top;\n",
       "    }\n",
       "\n",
       "    .dataframe thead th {\n",
       "        text-align: right;\n",
       "    }\n",
       "\n",
       "    .dataframe td {\n",
       "        white-space: pre;\n",
       "    }\n",
       "\n",
       "    .dataframe td {\n",
       "        padding-top: 0;\n",
       "    }\n",
       "\n",
       "    .dataframe td {\n",
       "        padding-bottom: 0;\n",
       "    }\n",
       "</style>\n",
       "<table border=\"1\" class=\"dataframe\">\n",
       "<small>shape: (1, 14)</small>\n",
       "<thead>\n",
       "<tr>\n",
       "<th>\n",
       "cc\n",
       "</th>\n",
       "<th>\n",
       "o3\n",
       "</th>\n",
       "<th>\n",
       "pv\n",
       "</th>\n",
       "<th>\n",
       "cape\n",
       "</th>\n",
       "<th>\n",
       "blh\n",
       "</th>\n",
       "<th>\n",
       "d2m\n",
       "</th>\n",
       "<th>\n",
       "z\n",
       "</th>\n",
       "<th>\n",
       "relative_humidity\n",
       "</th>\n",
       "<th>\n",
       "t2m\n",
       "</th>\n",
       "<th>\n",
       "t100m\n",
       "</th>\n",
       "<th>\n",
       "t135m\n",
       "</th>\n",
       "<th>\n",
       "wdir100m\n",
       "</th>\n",
       "<th>\n",
       "wspeed135m\n",
       "</th>\n",
       "<th>\n",
       "wspeed100m\n",
       "</th>\n",
       "</tr>\n",
       "<tr>\n",
       "<td>\n",
       "f64\n",
       "</td>\n",
       "<td>\n",
       "f64\n",
       "</td>\n",
       "<td>\n",
       "f64\n",
       "</td>\n",
       "<td>\n",
       "f64\n",
       "</td>\n",
       "<td>\n",
       "f64\n",
       "</td>\n",
       "<td>\n",
       "f64\n",
       "</td>\n",
       "<td>\n",
       "f64\n",
       "</td>\n",
       "<td>\n",
       "f64\n",
       "</td>\n",
       "<td>\n",
       "f64\n",
       "</td>\n",
       "<td>\n",
       "f64\n",
       "</td>\n",
       "<td>\n",
       "f64\n",
       "</td>\n",
       "<td>\n",
       "f64\n",
       "</td>\n",
       "<td>\n",
       "f64\n",
       "</td>\n",
       "<td>\n",
       "f64\n",
       "</td>\n",
       "</tr>\n",
       "</thead>\n",
       "<tbody>\n",
       "<tr>\n",
       "<td>\n",
       "0.02489\n",
       "</td>\n",
       "<td>\n",
       "6.1949e-8\n",
       "</td>\n",
       "<td>\n",
       "8.3658e-8\n",
       "</td>\n",
       "<td>\n",
       "6.80831\n",
       "</td>\n",
       "<td>\n",
       "1166.72274\n",
       "</td>\n",
       "<td>\n",
       "271.240908\n",
       "</td>\n",
       "<td>\n",
       "1198.006588\n",
       "</td>\n",
       "<td>\n",
       "0.777034\n",
       "</td>\n",
       "<td>\n",
       "274.751252\n",
       "</td>\n",
       "<td>\n",
       "273.893069\n",
       "</td>\n",
       "<td>\n",
       "273.586556\n",
       "</td>\n",
       "<td>\n",
       "313.768843\n",
       "</td>\n",
       "<td>\n",
       "13.098464\n",
       "</td>\n",
       "<td>\n",
       "12.548772\n",
       "</td>\n",
       "</tr>\n",
       "</tbody>\n",
       "</table>\n",
       "</div>"
      ],
      "text/plain": [
       "shape: (1, 14)\n",
       "┌─────────┬───────────┬───────────┬─────────┬─────┬─────────────┬────────────┬──────────┬──────────┐\n",
       "│ cc      ┆ o3        ┆ pv        ┆ cape    ┆ ... ┆ t135m       ┆ wdir100m   ┆ wspeed13 ┆ wspeed10 │\n",
       "│ ---     ┆ ---       ┆ ---       ┆ ---     ┆     ┆ ---         ┆ ---        ┆ 5m       ┆ 0m       │\n",
       "│ f64     ┆ f64       ┆ f64       ┆ f64     ┆     ┆ f64         ┆ f64        ┆ ---      ┆ ---      │\n",
       "│         ┆           ┆           ┆         ┆     ┆             ┆            ┆ f64      ┆ f64      │\n",
       "╞═════════╪═══════════╪═══════════╪═════════╪═════╪═════════════╪════════════╪══════════╪══════════╡\n",
       "│ 0.02489 ┆ 6.1949e-8 ┆ 8.3658e-8 ┆ 6.80831 ┆ ... ┆ 273.586556  ┆ 313.768843 ┆ 13.09846 ┆ 12.54877 │\n",
       "│         ┆           ┆           ┆         ┆     ┆             ┆            ┆ 4        ┆ 2        │\n",
       "└─────────┴───────────┴───────────┴─────────┴─────┴─────────────┴────────────┴──────────┴──────────┘"
      ]
     },
     "execution_count": 22,
     "metadata": {},
     "output_type": "execute_result"
    }
   ],
   "source": [
    "df = pl.read_csv(path)\n",
    "\n",
    "df[:,3:].mean()"
   ]
  },
  {
   "cell_type": "code",
   "execution_count": 19,
   "metadata": {},
   "outputs": [
    {
     "data": {
      "text/plain": [
       "array([0.8992993782278949, 6.507567186278017e-08, 7.361577344806676e-07,\n",
       "       0.9257015, 225.15866929833905, 271.9474613922379,\n",
       "       1207.3548736489392, 0.9546531418181063, 272.5824360011307,\n",
       "       271.9454425929276, 271.7179340480057, 5.13338093918113,\n",
       "       3.55986339263012, 3.4104697558213983], dtype=object)"
      ]
     },
     "execution_count": 19,
     "metadata": {},
     "output_type": "execute_result"
    }
   ],
   "source": [
    "df[0,3:]"
   ]
  },
  {
   "cell_type": "code",
   "execution_count": 21,
   "metadata": {},
   "outputs": [
    {
     "data": {
      "text/plain": [
       "array([0.02489002774379176, 6.194901331392979e-08, 8.365811213174654e-08,\n",
       "       6.808310368830187, 1166.722740101321, 271.2409076331583,\n",
       "       1198.0065880260752, 0.7770339199305613, 274.75125213025,\n",
       "       273.8930687337791, 273.5865563098619, 313.76884299560203,\n",
       "       13.098463685916935, 12.548772167334299], dtype=object)"
      ]
     },
     "execution_count": 21,
     "metadata": {},
     "output_type": "execute_result"
    }
   ],
   "source": [
    "df = df.to_numpy()\n",
    "\n",
    "np.mean(df[:,3:], axis=0)"
   ]
  },
  {
   "cell_type": "code",
   "execution_count": 12,
   "metadata": {},
   "outputs": [
    {
     "name": "stdout",
     "output_type": "stream",
     "text": [
      "0.0\n"
     ]
    }
   ],
   "source": [
    "def split_events(data):\n",
    "\n",
    "    # Columns ['time', 'index', 'n_event', 'cc', 'o3', 'pv', 'cape', 'blh', 'd2m', 'z', 'relative_humidity', 't2m', 't100m', 't135m', 'wdir100m', 'wspeed135m', 'wspeed100m']\n",
    "\n",
    "    list_events = []\n",
    "\n",
    "    categories = np.array(['_'.join(str(item) for item in sublist) for sublist in data[:,1:3].tolist()])\n",
    "\n",
    "    # Get unique categories\n",
    "    unique_categories = np.unique(categories)\n",
    "\n",
    "    # Split the array into a list of lists based on categories\n",
    "    for category in unique_categories:\n",
    "        indices = np.where(categories == category)\n",
    "        subset = np.array(data[indices])\n",
    "        print('.'.join(str(item) for item in subset[0][1:3]))\n",
    "\n",
    "        break\n",
    "\n",
    "    return np.array(list_events) \n",
    "\n",
    "a = split_events(df)"
   ]
  },
  {
   "cell_type": "code",
   "execution_count": 7,
   "metadata": {},
   "outputs": [
    {
     "data": {
      "text/plain": [
       "'0-0'"
      ]
     },
     "execution_count": 7,
     "metadata": {},
     "output_type": "execute_result"
    }
   ],
   "source": []
  },
  {
   "cell_type": "code",
   "execution_count": null,
   "metadata": {},
   "outputs": [],
   "source": []
  }
 ],
 "metadata": {
  "kernelspec": {
   "display_name": "base",
   "language": "python",
   "name": "python3"
  },
  "language_info": {
   "codemirror_mode": {
    "name": "ipython",
    "version": 3
   },
   "file_extension": ".py",
   "mimetype": "text/x-python",
   "name": "python",
   "nbconvert_exporter": "python",
   "pygments_lexer": "ipython3",
   "version": "3.9.13"
  },
  "orig_nbformat": 4
 },
 "nbformat": 4,
 "nbformat_minor": 2
}
